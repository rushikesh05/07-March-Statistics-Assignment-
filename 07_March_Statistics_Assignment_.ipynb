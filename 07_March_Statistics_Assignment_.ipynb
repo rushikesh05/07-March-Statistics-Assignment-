{
  "nbformat": 4,
  "nbformat_minor": 0,
  "metadata": {
    "colab": {
      "provenance": []
    },
    "kernelspec": {
      "name": "python3",
      "display_name": "Python 3"
    },
    "language_info": {
      "name": "python"
    }
  },
  "cells": [
    {
      "cell_type": "markdown",
      "source": [
        "##Q1. What are the three measures of central tendency?\n",
        "\n",
        "###The three measures of central tendency are:\n",
        "\n",
        "* Mean: It is the arithmetic average of a set of numbers. The mean is calculated by summing up all the numbers in the set and dividing the sum by the total number of values in the set. The mean is sensitive to outliers and extreme values.\n",
        "\n",
        "* Median: It is the middle value in a set of numbers. To find the median, the values in the set are first arranged in order from lowest to highest , and then the middle value is identified. If the set contains an even number of values, the median is the average of the two middle values. The median is less sensitive to outliers compared to the mean.\n",
        "\n",
        "* Mode: It is the value that occurs most frequently in a set of numbers. A set of numbers can have one or more modes, or it may have no mode if all values occur with the same frequency. The mode is often used for nominal data, where the values are categories or labels rather than numerical quantities."
      ],
      "metadata": {
        "id": "ftHFBO_Qz_KC"
      }
    },
    {
      "cell_type": "markdown",
      "source": [
        "##Q2. What is the difference between the mean, median, and mode? How are they used to measure the central tendency of a dataset?\n",
        "\n",
        "###The mean, median, and mode are measures of central tendency that are used to describe the typical or central value of a dataset. The main differences between them are:\n",
        "\n",
        "* Mean: It is the sum of all the values in the dataset divided by the total number of values. It is sensitive to extreme values or outliers that can significantly affect its value. The mean is often used for interval or ratio data.\n",
        "\n",
        "* Median: It is the middle value in the dataset when the values are arranged in order from lowest to highest. If there are an even number of values, the median is the average of the two middle values. The median is less sensitive to outliers than the mean and is often used for skewed or non-normally distributed data.\n",
        "\n",
        "* Mode: It is the value in the dataset that occurs most frequently. There may be one or more modes, or no mode if all values occur with the same frequency. The mode is often used for nominal or categorical data.\n",
        "\n",
        "###To measure the central tendency of a dataset, the mean, median, and mode can be calculated and compared. If the values in the dataset are normally distributed, the mean, median, and mode will be approximately equal. However, if the dataset is skewed or has outliers, the mean may not accurately represent the typical value of the dataset, and the median or mode may be a better measure of central tendency. The choice of which measure to use depends on the nature of the data and the research question being investigated."
      ],
      "metadata": {
        "id": "S7AJWtL_0qhR"
      }
    },
    {
      "cell_type": "markdown",
      "source": [
        "##Q3. Measure the three measures of central tendency for the given height data:\n",
        "```\n",
        "[178,177,176,177,178.2,178,175,179,180,175,178.9,176.2,177,172.5,178,176.5]\n",
        "```"
      ],
      "metadata": {
        "id": "J4-gt_mR1Ewf"
      }
    },
    {
      "cell_type": "code",
      "execution_count": 2,
      "metadata": {
        "colab": {
          "base_uri": "https://localhost:8080/"
        },
        "id": "KCZFPW8hz-Bo",
        "outputId": "1bcffa76-9cb4-4d9e-ab41-730ca8029fa0"
      },
      "outputs": [
        {
          "output_type": "stream",
          "name": "stdout",
          "text": [
            "Mean height: 177.02 cm\n",
            "Median height: 177.00 cm\n",
            "Mode height: 178.00 cm\n"
          ]
        }
      ],
      "source": [
        "import statistics\n",
        "\n",
        "height_data = [178,177,176,177,178.2,178,175,179,180,175,178.9,176.2,177,172.5,178,176.5]\n",
        "mean = statistics.mean(height_data)\n",
        "median = statistics.median(height_data)\n",
        "mode = statistics.mode(height_data)\n",
        "\n",
        "print(\"Mean height: {:.2f} cm\".format(mean))\n",
        "print(\"Median height: {:.2f} cm\".format(median))\n",
        "print(\"Mode height: {:.2f} cm\".format(mode))\n"
      ]
    },
    {
      "cell_type": "markdown",
      "source": [
        "##Q4. Find the standard deviation for the given data:\n",
        "      *  [178,177,176,177,178.2,178,175,179,180,175,178.9,176.2,177,172.5,178,176.5]"
      ],
      "metadata": {
        "id": "wxEwvFBU1rAI"
      }
    },
    {
      "cell_type": "code",
      "source": [
        "import statistics\n",
        "\n",
        "data = [178,177,176,177,178.2,178,175,179,180,175,178.9,176.2,177,172.5,178,176.5]\n",
        "\n",
        "stdev = statistics.stdev(data)\n",
        "\n",
        "print(\"Standard deviation: {:.2f}\".format(stdev))\n"
      ],
      "metadata": {
        "colab": {
          "base_uri": "https://localhost:8080/"
        },
        "id": "Wf0vyYp_1XNZ",
        "outputId": "fa42a3d7-0af4-4a6a-d98c-f53115b57420"
      },
      "execution_count": 4,
      "outputs": [
        {
          "output_type": "stream",
          "name": "stdout",
          "text": [
            "Standard deviation: 1.85\n"
          ]
        }
      ]
    },
    {
      "cell_type": "markdown",
      "source": [
        "##Q5. How are measures of dispersion such as range, variance, and standard deviation used to describe the spread of a dataset? Provide an example.\n",
        "\n",
        "###Measures of dispersion such as range, variance, and standard deviation are used to describe how spread out the values in a dataset are from each other. These measures give an idea of how much the values in the dataset differ from the mean or central value.\n",
        "\n",
        "* The range is the simplest measure of dispersion, it's the difference between the maximum and minimum values in a dataset. For example, if we have a dataset of ages of people in a family: 20, 30, 45, 50, 55. The range would be the difference between the highest age and the lowest age, which is 55 - 20 = 35. This means that the ages in the family range from 20 to 55.\n",
        "\n",
        "* Variance and standard deviation are more precise measures of dispersion. Variance measures how far the individual data points are from the mean of the dataset, while the standard deviation is the square root of the variance. Standard deviation is usually preferred over variance because it is expressed in the same units as the original dataset.\n",
        "\n",
        "####For example, let's say we have a dataset of the weights of students in a class: 50 kg, 60 kg, 65 kg, 70 kg, 75 kg. The mean weight is (50+60+65+70+75)/5 = 64 kg. To calculate the variance, we first calculate the difference between each data point and the mean, square those differences, and then take the average of the squared differences. The variance of this dataset is ((50-64)^2 + (60-64)^2 + (65-64)^2 + (70-64)^2 + (75-64)^2)/5 = 122.4. The standard deviation is the square root of the variance, which is sqrt(122.4) = 11.06. This means that the weights of students in the class are spread out by about 11.06 kg from the mean weight."
      ],
      "metadata": {
        "id": "rt1hkEZJ2JQA"
      }
    },
    {
      "cell_type": "markdown",
      "source": [
        "##Q6. What is a Venn diagram?\n",
        "* A Venn diagram is a visual representation of the relationships between sets of data. It consists of circles or other closed shapes that overlap, with each circle representing a set of data and the overlap representing the relationships between the sets. The size of the circles and the overlap area can be used to indicate the relative size of each set or the degree of overlap.\n",
        "\n",
        "* Venn diagrams are commonly used in mathematics, logic, statistics, and other fields to illustrate concepts related to sets and their relationships. For example, a Venn diagram could be used to show the relationship between two sets of data, such as the set of all cats and the set of all black animals. The circles could be labeled \"cats\" and \"black animals,\" with the overlap indicating the set of all black cats."
      ],
      "metadata": {
        "id": "z7Bj2rzN2y92"
      }
    },
    {
      "cell_type": "markdown",
      "source": [
        "##Q7. For the two given sets A = (2,3,4,5,6,7) & B = (0,2,6,8,10). Find:\n",
        "#(i)  A ∩ B\n",
        "#(ii) A ⋃ B\n",
        "\n",
        "\n",
        "* (i) A ∩ B represents the intersection of sets A and B, i.e., the elements that are common to both sets. In this case, the common elements between sets A and B are 2, 6. Therefore, A ∩ B = {2,6}.\n",
        "\n",
        "* (ii) A ⋃ B represents the union of sets A and B, i.e., all the elements that are in either set A or set B, or both. In this case, the union of sets A and B is {0,2,3,4,5,6,7,8,10}. Therefore, A ⋃ B = {0,2,3,4,5,6,7,8,10}."
      ],
      "metadata": {
        "id": "fwHt2NNx3LeP"
      }
    },
    {
      "cell_type": "markdown",
      "source": [
        "##Q8. What do you understand about skewness in data?\n",
        "\n",
        "###Skewness is a measure of the asymmetry of a distribution of data. A distribution is said to be skewed if it is not symmetrical, that is, one tail is longer or fatter than the other. Skewness can be positive, negative, or zero.\n",
        "\n",
        "* Positive skewness: A distribution is positively skewed if the tail on the right-hand side of the distribution is longer or fatter than the left-hand side. This indicates that there are more extreme values on the right-hand side of the distribution than on the left-hand side.\n",
        "\n",
        "* Negative skewness: A distribution is negatively skewed if the tail on the left-hand side of the distribution is longer or fatter than the right-hand side. This indicates that there are more extreme values on the left-hand side of the distribution than on the right-hand side.\n",
        "\n",
        "* Zero skewness: A distribution is symmetrical or has zero skewness if the left and right-hand sides of the distribution are mirror images of each other. This means that there are equal numbers of extreme values on both sides of the distribution.\n",
        "\n"
      ],
      "metadata": {
        "id": "FcH5Rk6c307x"
      }
    },
    {
      "cell_type": "markdown",
      "source": [
        "##Q9. If a data is right skewed then what will be the position of median with respect to mean?\n",
        "\n",
        "#If a data is right skewed, the median will be less than the mean\n",
        "\n",
        "* This is because in a right-skewed distribution, the tail on the right-hand side of the distribution is longer or fatter than the left-hand side. As a result, there are more extreme values on the right-hand side of the distribution, which pull the mean towards the right, away from the center of the distribution. On the other hand, the median is less sensitive to extreme values and is more representative of the center of the distribution, so it tends to be located closer to the center than the mean. Therefore, in a right-skewed distribution, the median will be located to the left of the mean.\n",
        "\n"
      ],
      "metadata": {
        "id": "pjT28-Qt4_K7"
      }
    },
    {
      "cell_type": "markdown",
      "source": [
        "##Q10. Explain the difference between covariance and correlation. How are these measures used in statistical analysis?\n",
        "\n",
        "###Covariance and correlation are both measures of the relationship between two variables in a dataset, but they differ in terms of their scale and interpretation.\n",
        "\n",
        "* Covariance measures the degree to which two variables vary together. Specifically, it measures the average deviation of one variable from its mean, multiplied by the average deviation of the other variable from its mean. If the covariance is positive, it means that the two variables tend to vary together in the same direction, while a negative covariance means that they tend to vary in opposite directions. However, the magnitude of the covariance depends on the scales of the two variables, so it is difficult to compare covariances across different datasets.\n",
        "\n",
        "* Correlation, on the other hand, is a standardized version of covariance, which makes it easier to compare the relationship between two variables across different datasets. Correlation measures the strength and direction of the linear relationship between two variables, and it ranges from -1 to 1. A correlation of 1 means that the two variables are perfectly positively correlated (i.e., they vary together in the same direction), while a correlation of -1 means that they are perfectly negatively correlated (i.e., they vary in opposite directions). A correlation of 0 means that there is no linear relationship between the two variables.\n",
        "\n",
        "####Both covariance and correlation are used in statistical analysis to examine the relationship between two variables in a dataset. However, correlation is generally preferred because it provides a more standardized measure of the relationship, which is easier to interpret and compare across different datasets. Covariance is still useful in certain situations, such as when the units of measurement are meaningful or when comparing datasets with the same units."
      ],
      "metadata": {
        "id": "OZMn2rlT5Wjv"
      }
    },
    {
      "cell_type": "code",
      "source": [],
      "metadata": {
        "id": "QF9PwWzE11pt"
      },
      "execution_count": null,
      "outputs": []
    },
    {
      "cell_type": "markdown",
      "source": [
        "##Q11. What is the formula for calculating the sample mean? Provide an example calculation for a dataset.\n",
        "\n",
        "###The formula for calculating the sample mean (also known as the sample average) is:\n",
        "\n",
        "```\n",
        "sample mean = sum of all data points / number of data points\n",
        "```\n",
        "\n",
        "##In symbols, this can be written as:\n",
        "\n",
        "```\n",
        "x̄ = Σx / n\n",
        "```\n",
        "\n",
        "###where x̄ is the sample mean, \n",
        "###Σx is the sum of all data points, \n",
        " ###n is the number of data points.\n",
        "\n",
        "##Here's an example calculation of the sample mean for a dataset:\n",
        "\n",
        "###Suppose we have the following dataset of test scores for a class of 10 students:\n",
        "\n",
        "```\n",
        "{80, 85, 90, 75, 70, 95, 85, 90, 80, 85}\n",
        "```\n",
        "\n",
        "###To find the sample mean, we first add up all the scores:\n",
        "\n",
        "```\n",
        "80 + 85 + 90 + 75 + 70 + 95 + 85 + 90 + 80 + 85 = 845\n",
        "```\n",
        "\n",
        "###Next, we divide the sum by the number of data points (which in this case is 10):\n",
        "\n",
        "```\n",
        "845 / 10 = 84.5\n",
        "```\n",
        "\n",
        "##Therefore, the sample mean for this dataset is 84.5."
      ],
      "metadata": {
        "id": "xCbmQTGX5426"
      }
    },
    {
      "cell_type": "markdown",
      "source": [
        "##Q12. For a normal distribution data what is the relationship between its measure of central tendency?\n",
        "\n",
        "###For a normal distribution data, the three measures of central tendency (i.e., mean, median, and mode) are all equal to each other.\n",
        "\n",
        "* This is because a normal distribution is a symmetric distribution with a bell-shaped curve, where the mean is located at the center of the curve, and the median and mode are also located at the same point.\n",
        "\n"
      ],
      "metadata": {
        "id": "e41Qnhj66hf-"
      }
    },
    {
      "cell_type": "markdown",
      "source": [
        "##Q13. How is covariance different from correlation?\n",
        "###Covariance and correlation are both measures of the relationship between two variables. However, they differ in some important ways:\n",
        "\n",
        "* Definition: Covariance measures how two variables vary together. It measures the strength of the linear association between two variables. Correlation measures the strength and direction of the linear relationship between two variables.\n",
        "\n",
        "* Scale: Covariance can take on any value, positive or negative, whereas correlation ranges from -1 to 1.\n",
        "\n",
        "* Units: Covariance is measured in the units of the two variables, while correlation is a unitless measure.\n",
        "\n",
        "* Interpretation: Covariance can be difficult to interpret because its value is dependent on the scale of the variables being measured. Correlation is easier to interpret because it is standardized and ranges from -1 to 1, where values close to -1 indicate a strong negative relationship, values close to 1 indicate a strong positive relationship, and values close to 0 indicate no relationship.\n",
        "\n",
        "* Direction: Covariance can be positive or negative, indicating the direction of the relationship between the variables. Correlation is always positive or negative, indicating the strength and direction of the relationship.\n",
        "\n",
        "###In summary, while covariance and correlation both measure the relationship between two variables, correlation is a standardized measure that is easier to interpret and compare, and its value ranges from -1 to 1, while covariance can take on any value and is dependent on the units of the variables being measured."
      ],
      "metadata": {
        "id": "hv03E9gpAhRd"
      }
    },
    {
      "cell_type": "markdown",
      "source": [
        "##Q14. How do outliers affect measures of central tendency and dispersion? Provide an example.\n",
        "\n",
        "###Outliers are data points that lie far away from the bulk of the data. They can significantly affect measures of central tendency and dispersion.\n",
        "\n",
        "#1. Measures of Central Tendency:\n",
        " *  Outliers can have a major impact on the mean (average) since it takes into account every value in the data set. If an outlier is much higher or lower than the other values, the mean will be shifted in the direction of the outlier. However, the median and mode are not affected by outliers since they are based on the order or frequency of the data rather than the actual values.\n",
        "\n",
        "###Example: Consider a data set of salaries of employees in a company, with salaries ranging from 30,000 to 150,000. However, there is one employee with a salary of 1,000,000. In this case, the mean salary will be much higher than the typical salary of the employees. The median and mode, on the other hand, will not be affected by this outlier, since they are not influenced by extreme values.\n",
        "\n",
        "#2. Measures of Dispersion: \n",
        "* Outliers can also affect measures of dispersion, such as the range and standard deviation. The range (difference between the largest and smallest values) will be greatly influenced by the outlier. The standard deviation, which measures the spread of the data around the mean, will also be affected by outliers. Outliers can increase or decrease the standard deviation depending on the direction of the outlier.\n",
        "\n",
        "###Example: In the same data set of salaries of employees, suppose there is another employee with a salary of 25,000, which is much lower than the other salaries. In this case, the range will be very large, and the standard deviation will be higher than it would be if the outlier was not present."
      ],
      "metadata": {
        "id": "q3rXW7d6BAqn"
      }
    },
    {
      "cell_type": "code",
      "source": [],
      "metadata": {
        "id": "OL3NOrN96cZE"
      },
      "execution_count": null,
      "outputs": []
    }
  ]
}